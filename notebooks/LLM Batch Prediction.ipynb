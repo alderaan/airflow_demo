{
 "cells": [
  {
   "cell_type": "code",
   "execution_count": 1,
   "id": "7b4075bd",
   "metadata": {},
   "outputs": [],
   "source": [
    "import pandas as pd\n",
    "from openai import OpenAI\n",
    "client = OpenAI()"
   ]
  },
  {
   "cell_type": "markdown",
   "id": "5f5e20be",
   "metadata": {},
   "source": [
    "# 1. Prepare input file"
   ]
  },
  {
   "cell_type": "code",
   "execution_count": 2,
   "id": "f8ccf0d5",
   "metadata": {},
   "outputs": [
    {
     "data": {
      "text/html": [
       "<div>\n",
       "<style scoped>\n",
       "    .dataframe tbody tr th:only-of-type {\n",
       "        vertical-align: middle;\n",
       "    }\n",
       "\n",
       "    .dataframe tbody tr th {\n",
       "        vertical-align: top;\n",
       "    }\n",
       "\n",
       "    .dataframe thead th {\n",
       "        text-align: right;\n",
       "    }\n",
       "</style>\n",
       "<table border=\"1\" class=\"dataframe\">\n",
       "  <thead>\n",
       "    <tr style=\"text-align: right;\">\n",
       "      <th></th>\n",
       "      <th>review_id</th>\n",
       "      <th>order_id</th>\n",
       "      <th>review_score</th>\n",
       "      <th>review_comment_title</th>\n",
       "      <th>review_comment_message</th>\n",
       "      <th>review_creation_date</th>\n",
       "      <th>review_answer_timestamp</th>\n",
       "    </tr>\n",
       "  </thead>\n",
       "  <tbody>\n",
       "    <tr>\n",
       "      <th>0</th>\n",
       "      <td>7bc2406110b926393aa56f80a40eba40</td>\n",
       "      <td>73fc7af87114b39712e6da79b0a377eb</td>\n",
       "      <td>4</td>\n",
       "      <td>NaN</td>\n",
       "      <td>NaN</td>\n",
       "      <td>2018-01-18 00:00:00</td>\n",
       "      <td>2018-01-18 21:46:59</td>\n",
       "    </tr>\n",
       "    <tr>\n",
       "      <th>1</th>\n",
       "      <td>80e641a11e56f04c1ad469d5645fdfde</td>\n",
       "      <td>a548910a1c6147796b98fdf73dbeba33</td>\n",
       "      <td>5</td>\n",
       "      <td>NaN</td>\n",
       "      <td>NaN</td>\n",
       "      <td>2018-03-10 00:00:00</td>\n",
       "      <td>2018-03-11 03:05:13</td>\n",
       "    </tr>\n",
       "    <tr>\n",
       "      <th>2</th>\n",
       "      <td>228ce5500dc1d8e020d8d1322874b6f0</td>\n",
       "      <td>f9e4b658b201a9f2ecdecbb34bed034b</td>\n",
       "      <td>5</td>\n",
       "      <td>NaN</td>\n",
       "      <td>NaN</td>\n",
       "      <td>2018-02-17 00:00:00</td>\n",
       "      <td>2018-02-18 14:36:24</td>\n",
       "    </tr>\n",
       "    <tr>\n",
       "      <th>3</th>\n",
       "      <td>e64fb393e7b32834bb789ff8bb30750e</td>\n",
       "      <td>658677c97b385a9be170737859d3511b</td>\n",
       "      <td>5</td>\n",
       "      <td>NaN</td>\n",
       "      <td>Recebi bem antes do prazo estipulado.</td>\n",
       "      <td>2017-04-21 00:00:00</td>\n",
       "      <td>2017-04-21 22:02:06</td>\n",
       "    </tr>\n",
       "    <tr>\n",
       "      <th>4</th>\n",
       "      <td>f7c4243c7fe1938f181bec41a392bdeb</td>\n",
       "      <td>8e6bfb81e283fa7e4f11123a3fb894f1</td>\n",
       "      <td>5</td>\n",
       "      <td>NaN</td>\n",
       "      <td>Parabéns lojas lannister adorei comprar pela I...</td>\n",
       "      <td>2018-03-01 00:00:00</td>\n",
       "      <td>2018-03-02 10:26:53</td>\n",
       "    </tr>\n",
       "  </tbody>\n",
       "</table>\n",
       "</div>"
      ],
      "text/plain": [
       "                          review_id                          order_id  \\\n",
       "0  7bc2406110b926393aa56f80a40eba40  73fc7af87114b39712e6da79b0a377eb   \n",
       "1  80e641a11e56f04c1ad469d5645fdfde  a548910a1c6147796b98fdf73dbeba33   \n",
       "2  228ce5500dc1d8e020d8d1322874b6f0  f9e4b658b201a9f2ecdecbb34bed034b   \n",
       "3  e64fb393e7b32834bb789ff8bb30750e  658677c97b385a9be170737859d3511b   \n",
       "4  f7c4243c7fe1938f181bec41a392bdeb  8e6bfb81e283fa7e4f11123a3fb894f1   \n",
       "\n",
       "   review_score review_comment_title  \\\n",
       "0             4                  NaN   \n",
       "1             5                  NaN   \n",
       "2             5                  NaN   \n",
       "3             5                  NaN   \n",
       "4             5                  NaN   \n",
       "\n",
       "                              review_comment_message review_creation_date  \\\n",
       "0                                                NaN  2018-01-18 00:00:00   \n",
       "1                                                NaN  2018-03-10 00:00:00   \n",
       "2                                                NaN  2018-02-17 00:00:00   \n",
       "3              Recebi bem antes do prazo estipulado.  2017-04-21 00:00:00   \n",
       "4  Parabéns lojas lannister adorei comprar pela I...  2018-03-01 00:00:00   \n",
       "\n",
       "  review_answer_timestamp  \n",
       "0     2018-01-18 21:46:59  \n",
       "1     2018-03-11 03:05:13  \n",
       "2     2018-02-18 14:36:24  \n",
       "3     2017-04-21 22:02:06  \n",
       "4     2018-03-02 10:26:53  "
      ]
     },
     "metadata": {},
     "output_type": "display_data"
    }
   ],
   "source": [
    "# Define the relative path to the CSV file\n",
    "file_path = \"../source_data/olist_order_reviews_dataset.csv\"\n",
    "\n",
    "# Load CSV file into a pandas DataFrame\n",
    "df = pd.read_csv(file_path)\n",
    "\n",
    "# Display the first few rows to confirm\n",
    "display(df.head())"
   ]
  },
  {
   "cell_type": "markdown",
   "id": "e9249496",
   "metadata": {},
   "source": [
    "# 2. Uploading the file"
   ]
  },
  {
   "cell_type": "code",
   "execution_count": 4,
   "id": "675152a9",
   "metadata": {},
   "outputs": [
    {
     "name": "stdout",
     "output_type": "stream",
     "text": [
      "FileObject(id='file-RyAWj53mDbf3rX4wi5a8N2', bytes=516, created_at=1736594196, filename='batch_test.jsonl', object='file', purpose='batch', status='processed', status_details=None)\n"
     ]
    }
   ],
   "source": [
    "batch_input_file = client.files.create(\n",
    "    file=open(\"batch_test.jsonl\", \"rb\"),\n",
    "    purpose=\"batch\"\n",
    ")\n",
    "file_id = batch_input_file.id\n",
    "print(batch_input_file)"
   ]
  },
  {
   "cell_type": "markdown",
   "id": "56ba5638",
   "metadata": {},
   "source": [
    "# 3. Creating the batch"
   ]
  },
  {
   "cell_type": "code",
   "execution_count": 14,
   "id": "47eb9d7e",
   "metadata": {},
   "outputs": [],
   "source": [
    "batch_input_file_id = batch_input_file.id\n",
    "batch_response = client.batches.create(\n",
    "    input_file_id=batch_input_file_id,\n",
    "    endpoint=\"/v1/chat/completions\",\n",
    "    completion_window=\"24h\",\n",
    "    metadata={\n",
    "        \"description\": \"Airflow Demo Test Job\"\n",
    "    }\n",
    ")\n",
    "\n",
    "batch_id = batch_response.id"
   ]
  },
  {
   "cell_type": "markdown",
   "id": "e83a4888",
   "metadata": {},
   "source": [
    "# 4. Checking the Status of a Batch"
   ]
  },
  {
   "cell_type": "code",
   "execution_count": 25,
   "id": "8a04d8ab",
   "metadata": {},
   "outputs": [
    {
     "name": "stdout",
     "output_type": "stream",
     "text": [
      "completed\n",
      "file-XFjAVjTCkhTygULJUSSfVp\n"
     ]
    }
   ],
   "source": [
    "batch = client.batches.retrieve(batch_id)\n",
    "output_file_id = batch.output_file_id\n",
    "print(batch.status)\n",
    "print(output_file_id)"
   ]
  },
  {
   "cell_type": "markdown",
   "id": "796e7cce",
   "metadata": {},
   "source": [
    "# 5. Retrieving the results"
   ]
  },
  {
   "cell_type": "code",
   "execution_count": 26,
   "id": "e655e3dd",
   "metadata": {},
   "outputs": [
    {
     "name": "stdout",
     "output_type": "stream",
     "text": [
      "{\"id\": \"batch_req_6782553e4a688190bf3bb781cfb3e0c1\", \"custom_id\": \"request-1\", \"response\": {\"status_code\": 200, \"request_id\": \"5c73d3b3071870b291bcb8969fef4827\", \"body\": {\"id\": \"chatcmpl-AoTufo7r50w9JL09btx1LHiRL58VJ\", \"object\": \"chat.completion\", \"created\": 1736594749, \"model\": \"gpt-3.5-turbo-0125\", \"choices\": [{\"index\": 0, \"message\": {\"role\": \"assistant\", \"content\": \"Hello! How can I assist you today?\", \"refusal\": null}, \"logprobs\": null, \"finish_reason\": \"stop\"}], \"usage\": {\"prompt_tokens\": 20, \"completion_tokens\": 10, \"total_tokens\": 30, \"prompt_tokens_details\": {\"cached_tokens\": 0, \"audio_tokens\": 0}, \"completion_tokens_details\": {\"reasoning_tokens\": 0, \"audio_tokens\": 0, \"accepted_prediction_tokens\": 0, \"rejected_prediction_tokens\": 0}}, \"service_tier\": \"default\", \"system_fingerprint\": null}}, \"error\": null}\n",
      "{\"id\": \"batch_req_6782553e69188190a9b33d7b9e4c4318\", \"custom_id\": \"request-2\", \"response\": {\"status_code\": 200, \"request_id\": \"0dc1682b335e9562a71701534f60cefc\", \"body\": {\"id\": \"chatcmpl-AoTthHfxHepgYjzWcxeZBPZZ2737m\", \"object\": \"chat.completion\", \"created\": 1736594689, \"model\": \"gpt-3.5-turbo-0125\", \"choices\": [{\"index\": 0, \"message\": {\"role\": \"assistant\", \"content\": \"I see you've mastered the art of basic greetings. What can I not assist you with today?\", \"refusal\": null}, \"logprobs\": null, \"finish_reason\": \"stop\"}], \"usage\": {\"prompt_tokens\": 22, \"completion_tokens\": 21, \"total_tokens\": 43, \"prompt_tokens_details\": {\"cached_tokens\": 0, \"audio_tokens\": 0}, \"completion_tokens_details\": {\"reasoning_tokens\": 0, \"audio_tokens\": 0, \"accepted_prediction_tokens\": 0, \"rejected_prediction_tokens\": 0}}, \"service_tier\": \"default\", \"system_fingerprint\": null}}, \"error\": null}\n",
      "\n"
     ]
    }
   ],
   "source": [
    "file_response = client.files.content(output_file_id)\n",
    "print(file_response.text)"
   ]
  },
  {
   "cell_type": "markdown",
   "id": "8b747c18",
   "metadata": {},
   "source": [
    "# 6. Cancelling results"
   ]
  },
  {
   "cell_type": "code",
   "execution_count": null,
   "id": "6eff427d",
   "metadata": {},
   "outputs": [],
   "source": [
    "client.batches.cancel(\"batch_abc123\")\n",
    "# latest batch batch_678736d7ec408190a2b7620c8d94ad8a\n",
    "\n"
   ]
  },
  {
   "cell_type": "markdown",
   "id": "e91ff407",
   "metadata": {},
   "source": [
    "# Custom"
   ]
  },
  {
   "cell_type": "code",
   "execution_count": 6,
   "id": "9c651e77",
   "metadata": {},
   "outputs": [
    {
     "data": {
      "text/plain": [
       "Batch(id='batch_678736d7ec408190a2b7620c8d94ad8a', completion_window='24h', created_at=1736914648, endpoint='/v1/chat/completions', input_file_id='file-NmXzviEdfQCbkU5NXFnQsC', object='batch', status='completed', cancelled_at=None, cancelling_at=None, completed_at=1736925921, error_file_id=None, errors=None, expired_at=None, expires_at=1737001048, failed_at=None, finalizing_at=1736921059, in_progress_at=1736914657, metadata=None, output_file_id='file-F8A3C9cRNoiTwu3FKLTSs8', request_counts=BatchRequestCounts(completed=40572, failed=0, total=40572))"
      ]
     },
     "execution_count": 6,
     "metadata": {},
     "output_type": "execute_result"
    }
   ],
   "source": [
    "batch"
   ]
  },
  {
   "cell_type": "code",
   "execution_count": 2,
   "id": "5c72a867",
   "metadata": {},
   "outputs": [
    {
     "name": "stdout",
     "output_type": "stream",
     "text": [
      "completed\n",
      "file-F8A3C9cRNoiTwu3FKLTSs8\n"
     ]
    }
   ],
   "source": [
    "batch = client.batches.retrieve('batch_678736d7ec408190a2b7620c8d94ad8a')\n",
    "output_file_id = batch.output_file_id\n",
    "print(batch.status)\n",
    "print(output_file_id)"
   ]
  },
  {
   "cell_type": "code",
   "execution_count": 5,
   "id": "ff3f8111",
   "metadata": {},
   "outputs": [],
   "source": [
    "file_response = client.files.content(output_file_id)\n",
    "local_file = f\"translations_output_custom.jsonl\"\n",
    "with open(local_file, \"w\") as f:\n",
    "    f.write(file_response.text)"
   ]
  },
  {
   "cell_type": "code",
   "execution_count": null,
   "id": "eabad049",
   "metadata": {},
   "outputs": [],
   "source": []
  }
 ],
 "metadata": {
  "kernelspec": {
   "display_name": "Python (airflow_demo  )",
   "language": "python",
   "name": "airflow_demo"
  },
  "language_info": {
   "codemirror_mode": {
    "name": "ipython",
    "version": 3
   },
   "file_extension": ".py",
   "mimetype": "text/x-python",
   "name": "python",
   "nbconvert_exporter": "python",
   "pygments_lexer": "ipython3",
   "version": "3.9.2"
  }
 },
 "nbformat": 4,
 "nbformat_minor": 5
}
